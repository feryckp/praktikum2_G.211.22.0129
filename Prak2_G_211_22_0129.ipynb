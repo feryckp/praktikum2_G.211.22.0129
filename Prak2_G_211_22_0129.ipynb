{
  "nbformat": 4,
  "nbformat_minor": 0,
  "metadata": {
    "colab": {
      "private_outputs": true,
      "provenance": []
    },
    "kernelspec": {
      "name": "python3",
      "display_name": "Python 3"
    },
    "language_info": {
      "name": "python"
    }
  },
  "cells": [
    {
      "cell_type": "code",
      "source": [
        "# Tuple\n",
        "mahasiswa = (\"G.211.22.0100\", \"Nizar Hidayatul Ikhsan\", 19)\n",
        "print(\"Data Mahasiswa:\")\n",
        "print(\"NIM:\", mahasiswa[0])\n",
        "print(\"Nama:\", mahasiswa[1])\n",
        "print(\"Usia:\", mahasiswa[2])\n",
        "\n",
        "# Dictionary\n",
        "mahasiswa_dict = {\"NIM\": \"G.211.22.0100\", \"Nama\": \"Nizar Hidayatul Ikhsan\", \"Usia\": 19}\n",
        "print(\"\\nData Mahasiswa (Dictionary):\")\n",
        "print(\"NIM:\", mahasiswa_dict[\"NIM\"])\n",
        "print(\"Nama:\", mahasiswa_dict[\"Nama\"])\n",
        "print(\"Usia:\", mahasiswa_dict[\"Usia\"])"
      ],
      "metadata": {
        "id": "-NimHQnA_xey"
      },
      "execution_count": null,
      "outputs": []
    },
    {
      "cell_type": "code",
      "source": [
        "# Tuple\n",
        "mahasiswa = (\"123456\", \"John Doe\", 21)\n",
        "\n",
        "# Mengakses elemen Tuple\n",
        "nim = mahasiswa[0]\n",
        "nama = mahasiswa[1]\n",
        "usia = mahasiswa[2]\n",
        "\n",
        "# Menampilkan informasi mahasiswa\n",
        "print(\"Data Mahasiswa:\")\n",
        "print(\"NIM:\", nim)\n",
        "print(\"Nama:\", nama)\n",
        "print(\"Usia:\", usia)"
      ],
      "metadata": {
        "id": "UZ0z4Ih__3Uv"
      },
      "execution_count": null,
      "outputs": []
    },
    {
      "cell_type": "code",
      "source": [
        "# Dictionary\n",
        "mahasiswa_dict = {\"NIM\": \"123456\", \"Nama\": \"John Doe\", \"Usia\": 21}\n",
        "\n",
        "# Mengakses nilai Dictionary\n",
        "nim_dict = mahasiswa_dict[\"NIM\"]\n",
        "nama_dict = mahasiswa_dict[\"Nama\"]\n",
        "usia_dict = mahasiswa_dict[\"Usia\"]\n",
        "\n",
        "# Menampilkan informasi mahasiswa dari Dictionary\n",
        "print(\"\\nData Mahasiswa (Dictionary):\")\n",
        "print(\"NIM:\", nim_dict)\n",
        "print(\"Nama:\", nama_dict)\n",
        "print(\"Usia:\", usia_dict)"
      ],
      "metadata": {
        "id": "9ZkPE8QA_-iX"
      },
      "execution_count": null,
      "outputs": []
    }
  ]
}